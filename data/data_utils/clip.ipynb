{
 "cells": [
  {
   "cell_type": "code",
   "execution_count": 5,
   "metadata": {},
   "outputs": [
    {
     "name": "stdout",
     "output_type": "stream",
     "text": [
      "36107\n",
      "36107\n",
      "4591\n",
      "4591\n",
      "4190\n",
      "4190\n"
     ]
    }
   ],
   "source": [
    "for data in (\"train\", \"dev\", \"test\"):\n",
    "    INPUT_PATH = \"../data/bt_aug_\"+data+\".csv\"\n",
    "    with open(INPUT_PATH, 'r') as f:\n",
    "        lines = f.readlines()\n",
    "        print len(lines)\n",
    "        for line in lines[::-1]:\n",
    "            if len(line) > MAX or len(line) < MIN:\n",
    "                del line\n",
    "        print len(lines)"
   ]
  },
  {
   "cell_type": "code",
   "execution_count": 23,
   "metadata": {},
   "outputs": [
    {
     "name": "stdout",
     "output_type": "stream",
     "text": [
      "36104\n",
      "36071\n",
      "4588\n",
      "4587\n",
      "4187\n",
      "4179\n"
     ]
    }
   ],
   "source": [
    "for data in (\"train\", \"dev\", \"test\"):\n",
    "    INPUT_PATH = \"../data/bt_aug_\"+data+\"4.csv\"\n",
    "    OUTPUT_PATH = \"../data/bt_aug_clip_\"+data+\"4.csv\"\n",
    "    with open(INPUT_PATH, 'r') as f:\n",
    "        lines = f.readlines()\n",
    "        print len(lines)\n",
    "        for i in range(len(lines))[::-1]:\n",
    "            if len(lines[i]) > MAX or len(lines[i]) < MIN:\n",
    "                del lines[i]\n",
    "        print len(lines)\n",
    "        output = open(OUTPUT_PATH, 'w')\n",
    "        for line in lines:\n",
    "            print >> output, line"
   ]
  },
  {
   "cell_type": "code",
   "execution_count": 14,
   "metadata": {
    "collapsed": true
   },
   "outputs": [],
   "source": [
    "MIN = 64\n",
    "MAX = 1024"
   ]
  },
  {
   "cell_type": "code",
   "execution_count": null,
   "metadata": {
    "collapsed": true
   },
   "outputs": [],
   "source": []
  }
 ],
 "metadata": {
  "kernelspec": {
   "display_name": "Python 2",
   "language": "python",
   "name": "python2"
  },
  "language_info": {
   "codemirror_mode": {
    "name": "ipython",
    "version": 2
   },
   "file_extension": ".py",
   "mimetype": "text/x-python",
   "name": "python",
   "nbconvert_exporter": "python",
   "pygments_lexer": "ipython2",
   "version": "2.7.14"
  }
 },
 "nbformat": 4,
 "nbformat_minor": 2
}
